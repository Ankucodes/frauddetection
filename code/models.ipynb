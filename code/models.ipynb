{
  "nbformat": 4,
  "nbformat_minor": 0,
  "metadata": {
    "colab": {
      "provenance": []
    },
    "kernelspec": {
      "name": "python3",
      "display_name": "Python 3"
    },
    "language_info": {
      "name": "python"
    }
  },
  "cells": [
    {
      "cell_type": "code",
      "execution_count": 2,
      "metadata": {
        "id": "-GbZfCKk8BHS"
      },
      "outputs": [],
      "source": [
        "##All General Import Statements\n",
        "import pandas as pd\n",
        "import numpy as np\n",
        "import math\n",
        "import random\n",
        "%matplotlib inline\n",
        "import random\n",
        "from matplotlib import pyplot\n",
        "import os\n",
        "\n"
      ]
    },
    {
      "cell_type": "code",
      "source": [
        "data = pd.read_csv('/creditcard.csv')"
      ],
      "metadata": {
        "id": "Z5J9EJdz_dlw"
      },
      "execution_count": 3,
      "outputs": []
    },
    {
      "cell_type": "markdown",
      "source": [
        "isolation forest"
      ],
      "metadata": {
        "id": "gNONs0n7_r37"
      }
    },
    {
      "cell_type": "code",
      "source": [
        "class ExNode:\n",
        "  def __init__(self, size):\n",
        "    self.size = size\n",
        "class InNode:\n",
        "  def __init__(self, left, right, splitat,splitval):\n",
        "    self.left = left\n",
        "    self.right = right\n",
        "    self.splitat = splitat\n",
        "    self.splitval = splitval"
      ],
      "metadata": {
        "id": "xA-lwlrm_ndi"
      },
      "execution_count": 6,
      "outputs": []
    },
    {
      "cell_type": "code",
      "source": [
        "#X: Input dataset (typically a Pandas DataFrame).\n",
        "#noOfTrees: The number of isolation trees to construct.\n",
        "#sampleSize: The number of samples to be drawn randomly for each tree.\n",
        "\n",
        "\n",
        "def iForest(X, nooftrees, samplesize):\n",
        "  forest=[]\n",
        "  h = math.ceil(math.log(samplesize,2))\n",
        "  for i in range(nooftrees):\n",
        "    Xtrain = X.sample(samplesize)\n",
        "    forest.append(buildtree(Xtrain,0,h))\n",
        "  return forest\n"
      ],
      "metadata": {
        "id": "I7ggZdewAKfW"
      },
      "execution_count": 7,
      "outputs": []
    },
    {
      "cell_type": "code",
      "source": [
        "\n",
        "def buildtree(Xt, currheight, h):\n",
        "  if currheight>h:\n",
        "    return ExNode(len(Xt))\n",
        "  else:\n",
        "    # Xt= Xt.reset_index(drop=True)\n",
        "    Q = Xt.columns\n",
        "    q = random.choice(Q)\n",
        "    p = random.choice(Xt[q])\n",
        "    Xl = Xt[Xt[q]<p]\n",
        "    Xr = Xt[Xt[q]>=p]\n",
        "\n",
        "    return InNode(buildtree(Xl,currheight+1,h),buildtree(Xr,currheight+1,h),q,p)\n",
        ""
      ],
      "metadata": {
        "id": "XP1lYktoFgO1"
      },
      "execution_count": 18,
      "outputs": []
    },
    {
      "cell_type": "code",
      "source": [
        "def path_len(X, tree, currheight):\n",
        "  if isinstance(tree,ExNode):\n",
        "    return currheight\n",
        "  a = tree.splitat\n",
        "  if X[a]<tree.splitval:\n",
        "    return path_len(X,tree.left,currheight+1)\n",
        "  else:\n",
        "    return path_len(X,tree.right,currheight+1)"
      ],
      "metadata": {
        "id": "g_CP8I1AL2UV"
      },
      "execution_count": 9,
      "outputs": []
    },
    {
      "cell_type": "code",
      "source": [
        "#run on dataset\n",
        "\n",
        "df = pd.read_csv('/content/creditcard.csv')\n",
        "y=df['Class']\n",
        "df_data=df.drop('Class',axis=1)"
      ],
      "metadata": {
        "id": "6tV67yWmBzCw"
      },
      "execution_count": 4,
      "outputs": []
    },
    {
      "cell_type": "code",
      "source": [
        "sampleSize=100\n",
        "ifor=iForest(df_data.sample(1000),10,sampleSize)"
      ],
      "metadata": {
        "colab": {
          "base_uri": "https://localhost:8080/",
          "height": 304
        },
        "id": "3ua5ftNeECWb",
        "outputId": "1a76bd27-515d-485a-8cea-699893f400e9"
      },
      "execution_count": 19,
      "outputs": [
        {
          "output_type": "error",
          "ename": "IndexError",
          "evalue": "Cannot choose from an empty sequence",
          "traceback": [
            "\u001b[0;31m---------------------------------------------------------------------------\u001b[0m",
            "\u001b[0;31mIndexError\u001b[0m                                Traceback (most recent call last)",
            "\u001b[0;32m<ipython-input-19-2f4c060dbe3c>\u001b[0m in \u001b[0;36m<cell line: 0>\u001b[0;34m()\u001b[0m\n\u001b[1;32m      1\u001b[0m \u001b[0msampleSize\u001b[0m\u001b[0;34m=\u001b[0m\u001b[0;36m100\u001b[0m\u001b[0;34m\u001b[0m\u001b[0;34m\u001b[0m\u001b[0m\n\u001b[0;32m----> 2\u001b[0;31m \u001b[0mifor\u001b[0m\u001b[0;34m=\u001b[0m\u001b[0miForest\u001b[0m\u001b[0;34m(\u001b[0m\u001b[0mdf_data\u001b[0m\u001b[0;34m.\u001b[0m\u001b[0msample\u001b[0m\u001b[0;34m(\u001b[0m\u001b[0;36m1000\u001b[0m\u001b[0;34m)\u001b[0m\u001b[0;34m,\u001b[0m\u001b[0;36m10\u001b[0m\u001b[0;34m,\u001b[0m\u001b[0msampleSize\u001b[0m\u001b[0;34m)\u001b[0m\u001b[0;34m\u001b[0m\u001b[0;34m\u001b[0m\u001b[0m\n\u001b[0m",
            "\u001b[0;32m<ipython-input-7-5a3877cdbb62>\u001b[0m in \u001b[0;36miForest\u001b[0;34m(X, nooftrees, samplesize)\u001b[0m\n\u001b[1;32m      9\u001b[0m   \u001b[0;32mfor\u001b[0m \u001b[0mi\u001b[0m \u001b[0;32min\u001b[0m \u001b[0mrange\u001b[0m\u001b[0;34m(\u001b[0m\u001b[0mnooftrees\u001b[0m\u001b[0;34m)\u001b[0m\u001b[0;34m:\u001b[0m\u001b[0;34m\u001b[0m\u001b[0;34m\u001b[0m\u001b[0m\n\u001b[1;32m     10\u001b[0m     \u001b[0mXtrain\u001b[0m \u001b[0;34m=\u001b[0m \u001b[0mX\u001b[0m\u001b[0;34m.\u001b[0m\u001b[0msample\u001b[0m\u001b[0;34m(\u001b[0m\u001b[0msamplesize\u001b[0m\u001b[0;34m)\u001b[0m\u001b[0;34m\u001b[0m\u001b[0;34m\u001b[0m\u001b[0m\n\u001b[0;32m---> 11\u001b[0;31m     \u001b[0mforest\u001b[0m\u001b[0;34m.\u001b[0m\u001b[0mappend\u001b[0m\u001b[0;34m(\u001b[0m\u001b[0mbuildtree\u001b[0m\u001b[0;34m(\u001b[0m\u001b[0mXtrain\u001b[0m\u001b[0;34m,\u001b[0m\u001b[0;36m0\u001b[0m\u001b[0;34m,\u001b[0m\u001b[0mh\u001b[0m\u001b[0;34m)\u001b[0m\u001b[0;34m)\u001b[0m\u001b[0;34m\u001b[0m\u001b[0;34m\u001b[0m\u001b[0m\n\u001b[0m\u001b[1;32m     12\u001b[0m   \u001b[0;32mreturn\u001b[0m \u001b[0mforest\u001b[0m\u001b[0;34m\u001b[0m\u001b[0;34m\u001b[0m\u001b[0m\n",
            "\u001b[0;32m<ipython-input-18-52a37a7fc10e>\u001b[0m in \u001b[0;36mbuildtree\u001b[0;34m(Xt, currheight, h)\u001b[0m\n\u001b[1;32m     10\u001b[0m     \u001b[0mXr\u001b[0m \u001b[0;34m=\u001b[0m \u001b[0mXt\u001b[0m\u001b[0;34m[\u001b[0m\u001b[0mXt\u001b[0m\u001b[0;34m[\u001b[0m\u001b[0mq\u001b[0m\u001b[0;34m]\u001b[0m\u001b[0;34m>=\u001b[0m\u001b[0mp\u001b[0m\u001b[0;34m]\u001b[0m\u001b[0;34m\u001b[0m\u001b[0;34m\u001b[0m\u001b[0m\n\u001b[1;32m     11\u001b[0m \u001b[0;34m\u001b[0m\u001b[0m\n\u001b[0;32m---> 12\u001b[0;31m     \u001b[0;32mreturn\u001b[0m \u001b[0mInNode\u001b[0m\u001b[0;34m(\u001b[0m\u001b[0mbuildtree\u001b[0m\u001b[0;34m(\u001b[0m\u001b[0mXl\u001b[0m\u001b[0;34m,\u001b[0m\u001b[0mcurrheight\u001b[0m\u001b[0;34m+\u001b[0m\u001b[0;36m1\u001b[0m\u001b[0;34m,\u001b[0m\u001b[0mh\u001b[0m\u001b[0;34m)\u001b[0m\u001b[0;34m,\u001b[0m\u001b[0mbuildtree\u001b[0m\u001b[0;34m(\u001b[0m\u001b[0mXr\u001b[0m\u001b[0;34m,\u001b[0m\u001b[0mcurrheight\u001b[0m\u001b[0;34m+\u001b[0m\u001b[0;36m1\u001b[0m\u001b[0;34m,\u001b[0m\u001b[0mh\u001b[0m\u001b[0;34m)\u001b[0m\u001b[0;34m,\u001b[0m\u001b[0mq\u001b[0m\u001b[0;34m,\u001b[0m\u001b[0mp\u001b[0m\u001b[0;34m)\u001b[0m\u001b[0;34m\u001b[0m\u001b[0;34m\u001b[0m\u001b[0m\n\u001b[0m\u001b[1;32m     13\u001b[0m \u001b[0;34m\u001b[0m\u001b[0m\n",
            "\u001b[0;32m<ipython-input-18-52a37a7fc10e>\u001b[0m in \u001b[0;36mbuildtree\u001b[0;34m(Xt, currheight, h)\u001b[0m\n\u001b[1;32m     10\u001b[0m     \u001b[0mXr\u001b[0m \u001b[0;34m=\u001b[0m \u001b[0mXt\u001b[0m\u001b[0;34m[\u001b[0m\u001b[0mXt\u001b[0m\u001b[0;34m[\u001b[0m\u001b[0mq\u001b[0m\u001b[0;34m]\u001b[0m\u001b[0;34m>=\u001b[0m\u001b[0mp\u001b[0m\u001b[0;34m]\u001b[0m\u001b[0;34m\u001b[0m\u001b[0;34m\u001b[0m\u001b[0m\n\u001b[1;32m     11\u001b[0m \u001b[0;34m\u001b[0m\u001b[0m\n\u001b[0;32m---> 12\u001b[0;31m     \u001b[0;32mreturn\u001b[0m \u001b[0mInNode\u001b[0m\u001b[0;34m(\u001b[0m\u001b[0mbuildtree\u001b[0m\u001b[0;34m(\u001b[0m\u001b[0mXl\u001b[0m\u001b[0;34m,\u001b[0m\u001b[0mcurrheight\u001b[0m\u001b[0;34m+\u001b[0m\u001b[0;36m1\u001b[0m\u001b[0;34m,\u001b[0m\u001b[0mh\u001b[0m\u001b[0;34m)\u001b[0m\u001b[0;34m,\u001b[0m\u001b[0mbuildtree\u001b[0m\u001b[0;34m(\u001b[0m\u001b[0mXr\u001b[0m\u001b[0;34m,\u001b[0m\u001b[0mcurrheight\u001b[0m\u001b[0;34m+\u001b[0m\u001b[0;36m1\u001b[0m\u001b[0;34m,\u001b[0m\u001b[0mh\u001b[0m\u001b[0;34m)\u001b[0m\u001b[0;34m,\u001b[0m\u001b[0mq\u001b[0m\u001b[0;34m,\u001b[0m\u001b[0mp\u001b[0m\u001b[0;34m)\u001b[0m\u001b[0;34m\u001b[0m\u001b[0;34m\u001b[0m\u001b[0m\n\u001b[0m\u001b[1;32m     13\u001b[0m \u001b[0;34m\u001b[0m\u001b[0m\n",
            "\u001b[0;32m<ipython-input-18-52a37a7fc10e>\u001b[0m in \u001b[0;36mbuildtree\u001b[0;34m(Xt, currheight, h)\u001b[0m\n\u001b[1;32m     10\u001b[0m     \u001b[0mXr\u001b[0m \u001b[0;34m=\u001b[0m \u001b[0mXt\u001b[0m\u001b[0;34m[\u001b[0m\u001b[0mXt\u001b[0m\u001b[0;34m[\u001b[0m\u001b[0mq\u001b[0m\u001b[0;34m]\u001b[0m\u001b[0;34m>=\u001b[0m\u001b[0mp\u001b[0m\u001b[0;34m]\u001b[0m\u001b[0;34m\u001b[0m\u001b[0;34m\u001b[0m\u001b[0m\n\u001b[1;32m     11\u001b[0m \u001b[0;34m\u001b[0m\u001b[0m\n\u001b[0;32m---> 12\u001b[0;31m     \u001b[0;32mreturn\u001b[0m \u001b[0mInNode\u001b[0m\u001b[0;34m(\u001b[0m\u001b[0mbuildtree\u001b[0m\u001b[0;34m(\u001b[0m\u001b[0mXl\u001b[0m\u001b[0;34m,\u001b[0m\u001b[0mcurrheight\u001b[0m\u001b[0;34m+\u001b[0m\u001b[0;36m1\u001b[0m\u001b[0;34m,\u001b[0m\u001b[0mh\u001b[0m\u001b[0;34m)\u001b[0m\u001b[0;34m,\u001b[0m\u001b[0mbuildtree\u001b[0m\u001b[0;34m(\u001b[0m\u001b[0mXr\u001b[0m\u001b[0;34m,\u001b[0m\u001b[0mcurrheight\u001b[0m\u001b[0;34m+\u001b[0m\u001b[0;36m1\u001b[0m\u001b[0;34m,\u001b[0m\u001b[0mh\u001b[0m\u001b[0;34m)\u001b[0m\u001b[0;34m,\u001b[0m\u001b[0mq\u001b[0m\u001b[0;34m,\u001b[0m\u001b[0mp\u001b[0m\u001b[0;34m)\u001b[0m\u001b[0;34m\u001b[0m\u001b[0;34m\u001b[0m\u001b[0m\n\u001b[0m\u001b[1;32m     13\u001b[0m \u001b[0;34m\u001b[0m\u001b[0m\n",
            "\u001b[0;32m<ipython-input-18-52a37a7fc10e>\u001b[0m in \u001b[0;36mbuildtree\u001b[0;34m(Xt, currheight, h)\u001b[0m\n\u001b[1;32m     10\u001b[0m     \u001b[0mXr\u001b[0m \u001b[0;34m=\u001b[0m \u001b[0mXt\u001b[0m\u001b[0;34m[\u001b[0m\u001b[0mXt\u001b[0m\u001b[0;34m[\u001b[0m\u001b[0mq\u001b[0m\u001b[0;34m]\u001b[0m\u001b[0;34m>=\u001b[0m\u001b[0mp\u001b[0m\u001b[0;34m]\u001b[0m\u001b[0;34m\u001b[0m\u001b[0;34m\u001b[0m\u001b[0m\n\u001b[1;32m     11\u001b[0m \u001b[0;34m\u001b[0m\u001b[0m\n\u001b[0;32m---> 12\u001b[0;31m     \u001b[0;32mreturn\u001b[0m \u001b[0mInNode\u001b[0m\u001b[0;34m(\u001b[0m\u001b[0mbuildtree\u001b[0m\u001b[0;34m(\u001b[0m\u001b[0mXl\u001b[0m\u001b[0;34m,\u001b[0m\u001b[0mcurrheight\u001b[0m\u001b[0;34m+\u001b[0m\u001b[0;36m1\u001b[0m\u001b[0;34m,\u001b[0m\u001b[0mh\u001b[0m\u001b[0;34m)\u001b[0m\u001b[0;34m,\u001b[0m\u001b[0mbuildtree\u001b[0m\u001b[0;34m(\u001b[0m\u001b[0mXr\u001b[0m\u001b[0;34m,\u001b[0m\u001b[0mcurrheight\u001b[0m\u001b[0;34m+\u001b[0m\u001b[0;36m1\u001b[0m\u001b[0;34m,\u001b[0m\u001b[0mh\u001b[0m\u001b[0;34m)\u001b[0m\u001b[0;34m,\u001b[0m\u001b[0mq\u001b[0m\u001b[0;34m,\u001b[0m\u001b[0mp\u001b[0m\u001b[0;34m)\u001b[0m\u001b[0;34m\u001b[0m\u001b[0;34m\u001b[0m\u001b[0m\n\u001b[0m\u001b[1;32m     13\u001b[0m \u001b[0;34m\u001b[0m\u001b[0m\n",
            "\u001b[0;32m<ipython-input-18-52a37a7fc10e>\u001b[0m in \u001b[0;36mbuildtree\u001b[0;34m(Xt, currheight, h)\u001b[0m\n\u001b[1;32m     10\u001b[0m     \u001b[0mXr\u001b[0m \u001b[0;34m=\u001b[0m \u001b[0mXt\u001b[0m\u001b[0;34m[\u001b[0m\u001b[0mXt\u001b[0m\u001b[0;34m[\u001b[0m\u001b[0mq\u001b[0m\u001b[0;34m]\u001b[0m\u001b[0;34m>=\u001b[0m\u001b[0mp\u001b[0m\u001b[0;34m]\u001b[0m\u001b[0;34m\u001b[0m\u001b[0;34m\u001b[0m\u001b[0m\n\u001b[1;32m     11\u001b[0m \u001b[0;34m\u001b[0m\u001b[0m\n\u001b[0;32m---> 12\u001b[0;31m     \u001b[0;32mreturn\u001b[0m \u001b[0mInNode\u001b[0m\u001b[0;34m(\u001b[0m\u001b[0mbuildtree\u001b[0m\u001b[0;34m(\u001b[0m\u001b[0mXl\u001b[0m\u001b[0;34m,\u001b[0m\u001b[0mcurrheight\u001b[0m\u001b[0;34m+\u001b[0m\u001b[0;36m1\u001b[0m\u001b[0;34m,\u001b[0m\u001b[0mh\u001b[0m\u001b[0;34m)\u001b[0m\u001b[0;34m,\u001b[0m\u001b[0mbuildtree\u001b[0m\u001b[0;34m(\u001b[0m\u001b[0mXr\u001b[0m\u001b[0;34m,\u001b[0m\u001b[0mcurrheight\u001b[0m\u001b[0;34m+\u001b[0m\u001b[0;36m1\u001b[0m\u001b[0;34m,\u001b[0m\u001b[0mh\u001b[0m\u001b[0;34m)\u001b[0m\u001b[0;34m,\u001b[0m\u001b[0mq\u001b[0m\u001b[0;34m,\u001b[0m\u001b[0mp\u001b[0m\u001b[0;34m)\u001b[0m\u001b[0;34m\u001b[0m\u001b[0;34m\u001b[0m\u001b[0m\n\u001b[0m\u001b[1;32m     13\u001b[0m \u001b[0;34m\u001b[0m\u001b[0m\n",
            "\u001b[0;32m<ipython-input-18-52a37a7fc10e>\u001b[0m in \u001b[0;36mbuildtree\u001b[0;34m(Xt, currheight, h)\u001b[0m\n\u001b[1;32m      6\u001b[0m     \u001b[0mQ\u001b[0m \u001b[0;34m=\u001b[0m \u001b[0mXt\u001b[0m\u001b[0;34m.\u001b[0m\u001b[0mcolumns\u001b[0m\u001b[0;34m\u001b[0m\u001b[0;34m\u001b[0m\u001b[0m\n\u001b[1;32m      7\u001b[0m     \u001b[0mq\u001b[0m \u001b[0;34m=\u001b[0m \u001b[0mrandom\u001b[0m\u001b[0;34m.\u001b[0m\u001b[0mchoice\u001b[0m\u001b[0;34m(\u001b[0m\u001b[0mQ\u001b[0m\u001b[0;34m)\u001b[0m\u001b[0;34m\u001b[0m\u001b[0;34m\u001b[0m\u001b[0m\n\u001b[0;32m----> 8\u001b[0;31m     \u001b[0mp\u001b[0m \u001b[0;34m=\u001b[0m \u001b[0mrandom\u001b[0m\u001b[0;34m.\u001b[0m\u001b[0mchoice\u001b[0m\u001b[0;34m(\u001b[0m\u001b[0mXt\u001b[0m\u001b[0;34m[\u001b[0m\u001b[0mq\u001b[0m\u001b[0;34m]\u001b[0m\u001b[0;34m)\u001b[0m\u001b[0;34m\u001b[0m\u001b[0;34m\u001b[0m\u001b[0m\n\u001b[0m\u001b[1;32m      9\u001b[0m     \u001b[0mXl\u001b[0m \u001b[0;34m=\u001b[0m \u001b[0mXt\u001b[0m\u001b[0;34m[\u001b[0m\u001b[0mXt\u001b[0m\u001b[0;34m[\u001b[0m\u001b[0mq\u001b[0m\u001b[0;34m]\u001b[0m\u001b[0;34m<\u001b[0m\u001b[0mp\u001b[0m\u001b[0;34m]\u001b[0m\u001b[0;34m\u001b[0m\u001b[0;34m\u001b[0m\u001b[0m\n\u001b[1;32m     10\u001b[0m     \u001b[0mXr\u001b[0m \u001b[0;34m=\u001b[0m \u001b[0mXt\u001b[0m\u001b[0;34m[\u001b[0m\u001b[0mXt\u001b[0m\u001b[0;34m[\u001b[0m\u001b[0mq\u001b[0m\u001b[0;34m]\u001b[0m\u001b[0;34m>=\u001b[0m\u001b[0mp\u001b[0m\u001b[0;34m]\u001b[0m\u001b[0;34m\u001b[0m\u001b[0;34m\u001b[0m\u001b[0m\n",
            "\u001b[0;32m/usr/lib/python3.11/random.py\u001b[0m in \u001b[0;36mchoice\u001b[0;34m(self, seq)\u001b[0m\n\u001b[1;32m    371\u001b[0m         \u001b[0;31m# because bool(numpy.array()) raises a ValueError.\u001b[0m\u001b[0;34m\u001b[0m\u001b[0;34m\u001b[0m\u001b[0m\n\u001b[1;32m    372\u001b[0m         \u001b[0;32mif\u001b[0m \u001b[0;32mnot\u001b[0m \u001b[0mlen\u001b[0m\u001b[0;34m(\u001b[0m\u001b[0mseq\u001b[0m\u001b[0;34m)\u001b[0m\u001b[0;34m:\u001b[0m\u001b[0;34m\u001b[0m\u001b[0;34m\u001b[0m\u001b[0m\n\u001b[0;32m--> 373\u001b[0;31m             \u001b[0;32mraise\u001b[0m \u001b[0mIndexError\u001b[0m\u001b[0;34m(\u001b[0m\u001b[0;34m'Cannot choose from an empty sequence'\u001b[0m\u001b[0;34m)\u001b[0m\u001b[0;34m\u001b[0m\u001b[0;34m\u001b[0m\u001b[0m\n\u001b[0m\u001b[1;32m    374\u001b[0m         \u001b[0;32mreturn\u001b[0m \u001b[0mseq\u001b[0m\u001b[0;34m[\u001b[0m\u001b[0mself\u001b[0m\u001b[0;34m.\u001b[0m\u001b[0m_randbelow\u001b[0m\u001b[0;34m(\u001b[0m\u001b[0mlen\u001b[0m\u001b[0;34m(\u001b[0m\u001b[0mseq\u001b[0m\u001b[0;34m)\u001b[0m\u001b[0;34m)\u001b[0m\u001b[0;34m]\u001b[0m\u001b[0;34m\u001b[0m\u001b[0;34m\u001b[0m\u001b[0m\n\u001b[1;32m    375\u001b[0m \u001b[0;34m\u001b[0m\u001b[0m\n",
            "\u001b[0;31mIndexError\u001b[0m: Cannot choose from an empty sequence"
          ]
        }
      ]
    },
    {
      "cell_type": "code",
      "source": [
        "posLenLst=[]\n",
        "negLenLst=[]\n",
        "\n",
        "for sim in range(1000):\n",
        "    ind=random.choice(df_data[y_true==1].index)\n",
        "    for tree in ifor:\n",
        "        posLenLst.append(pathLength(df_data.iloc[ind],tree,0))\n",
        "\n",
        "    ind=random.choice(df_data[y_true==0].index)\n",
        "    for tree in ifor:\n",
        "        negLenLst.append(pathLength(df_data.iloc[ind],tree,0))"
      ],
      "metadata": {
        "id": "1hYtUQCxHqQT"
      },
      "execution_count": null,
      "outputs": []
    },
    {
      "cell_type": "code",
      "source": [
        "bins = np.linspace(0,math.ceil(math.log(sampleSize,2)), math.ceil(math.log(sampleSize,2)))\n",
        "\n",
        "pyplot.figure(figsize=(12,8))\n",
        "pyplot.hist(posLenLst, bins, alpha=0.5, label='Anomaly')\n",
        "pyplot.hist(negLenLst, bins, alpha=0.5, label='Normal')\n",
        "pyplot.xlabel('Path Length')\n",
        "pyplot.ylabel('Frequency')\n",
        "pyplot.legend(loc='upper left')"
      ],
      "metadata": {
        "id": "ZuozNpeVNj6O"
      },
      "execution_count": null,
      "outputs": []
    },
    {
      "cell_type": "code",
      "source": [
        "from sklearn.ensemble import IsolationForest\n",
        "from sklearn.neighbors import LocalOutlierFactor\n",
        "from sklearn.cluster import KMeans"
      ],
      "metadata": {
        "id": "28TQgV9mNzr6"
      },
      "execution_count": null,
      "outputs": []
    },
    {
      "cell_type": "code",
      "source": [
        "from sklearn.model_selection import train_test_split"
      ],
      "metadata": {
        "id": "nEZXpX6ON3QN"
      },
      "execution_count": null,
      "outputs": []
    },
    {
      "cell_type": "code",
      "source": [
        "X_train, X_test, y_train, y_test = train_test_split(df_data, y_true, test_size=0.3, random_state=42)"
      ],
      "metadata": {
        "id": "lkFq9epMN5kU"
      },
      "execution_count": null,
      "outputs": []
    },
    {
      "cell_type": "code",
      "source": [
        "def preprocess(df_data):\n",
        "    for col in df_data:\n",
        "        df_data[col]=(df_data[col]-np.min(df_data[col]))/(np.max(df_data[col])-np.min(df_data[col]))\n",
        "    return"
      ],
      "metadata": {
        "id": "FewLXYhqOCdd"
      },
      "execution_count": null,
      "outputs": []
    },
    {
      "cell_type": "code",
      "source": [
        "def train(X,clf,ensembleSize=5,sampleSize=10000):\n",
        "    mdlLst=[]\n",
        "    for n in range(ensembleSize):\n",
        "        X=df_data.sample(sampleSize)\n",
        "        clf.fit(X)\n",
        "        mdlLst.append(clf)\n",
        "    return mdlLst"
      ],
      "metadata": {
        "id": "AVWi4vhwONR1"
      },
      "execution_count": null,
      "outputs": []
    },
    {
      "cell_type": "code",
      "source": [
        "def predict(X,mdlLst):\n",
        "    y_pred=np.zeros(X.shape[0])\n",
        "    for clf in mdlLst:\n",
        "        y_pred=np.add(y_pred,clf.decision_function(X).reshape(X.shape[0],))\n",
        "    y_pred=(y_pred*1.0)/len(mdlLst)\n",
        "    return y_pred"
      ],
      "metadata": {
        "id": "AF0RDCi5OOzl"
      },
      "execution_count": null,
      "outputs": []
    },
    {
      "cell_type": "code",
      "source": [
        "from sklearn.metrics import roc_auc_score\n",
        "from sklearn.metrics import confusion_matrix,f1_score"
      ],
      "metadata": {
        "id": "HkJHOTQbOSwH"
      },
      "execution_count": null,
      "outputs": []
    },
    {
      "cell_type": "code",
      "source": [
        "alg=IsolationForest(n_estimators=100, max_samples='auto', contamination=0.01, \\\n",
        "                        max_features=1.0, bootstrap=False, n_jobs=-1, random_state=42, verbose=0,behaviour=\"new\")"
      ],
      "metadata": {
        "id": "GmcYAxVBOejd"
      },
      "execution_count": null,
      "outputs": []
    },
    {
      "cell_type": "code",
      "source": [
        "if_mdlLst=train(X_train,alg)"
      ],
      "metadata": {
        "id": "SslLO1fYO85z"
      },
      "execution_count": null,
      "outputs": []
    },
    {
      "cell_type": "code",
      "source": [
        "if_y_pred=predict(X_test,if_mdlLst)\n",
        "if_y_pred=1-if_y_pred\n",
        "\n",
        "#Creating class labels based on decision function\n",
        "if_y_pred_class=if_y_pred.copy()\n",
        "if_y_pred_class[if_y_pred>=np.percentile(if_y_pred,95)]=1\n",
        "if_y_pred_class[if_y_pred<np.percentile(if_y_pred,95)]=0"
      ],
      "metadata": {
        "id": "nA7xde9vO-pP"
      },
      "execution_count": null,
      "outputs": []
    },
    {
      "cell_type": "code",
      "source": [
        "roc_auc_score(y_test, if_y_pred_class)"
      ],
      "metadata": {
        "id": "IGZRs6YGPD0i"
      },
      "execution_count": null,
      "outputs": []
    },
    {
      "cell_type": "code",
      "source": [
        "f1_score(y_test, if_y_pred_class)"
      ],
      "metadata": {
        "id": "a3zr6CA6PFaV"
      },
      "execution_count": null,
      "outputs": []
    },
    {
      "cell_type": "code",
      "source": [
        "if_cm=confusion_matrix(y_test, if_y_pred_class)"
      ],
      "metadata": {
        "id": "nrBQ7evZPH7z"
      },
      "execution_count": null,
      "outputs": []
    },
    {
      "cell_type": "code",
      "source": [
        "kmeans = KMeans(n_clusters=8, random_state=42,n_jobs=-1).fit(X_train)"
      ],
      "metadata": {
        "id": "Vm95_OOSPMfW"
      },
      "execution_count": null,
      "outputs": []
    },
    {
      "cell_type": "code",
      "source": [
        "kmeans = KMeans(n_clusters=8, random_state=42,n_jobs=-1).fit(X_train)"
      ],
      "metadata": {
        "id": "7eELvpxSPOaY"
      },
      "execution_count": null,
      "outputs": []
    },
    {
      "cell_type": "code",
      "source": [
        "X_test_clusters=kmeans.predict(X_test)\n",
        "X_test_clusters_centers=kmeans.cluster_centers_\n",
        "dist = [np.linalg.norm(x-y) for x,y in zip(X_test.values,X_test_clusters_centers[X_test_clusters])]\n",
        "\n",
        "km_y_pred=np.array(dist)\n",
        "km_y_pred[dist>=np.percentile(dist,95)]=1\n",
        "km_y_pred[dist<np.percentile(dist,95)]=0"
      ],
      "metadata": {
        "id": "LU3HElnPPQV0"
      },
      "execution_count": null,
      "outputs": []
    },
    {
      "cell_type": "code",
      "source": [
        "roc_auc_score(y_test, km_y_pred)"
      ],
      "metadata": {
        "id": "qOFAqTjEPSMe"
      },
      "execution_count": null,
      "outputs": []
    },
    {
      "cell_type": "code",
      "source": [
        "f1_score(y_test, km_y_pred)"
      ],
      "metadata": {
        "id": "EyzQCtgHPTlm"
      },
      "execution_count": null,
      "outputs": []
    },
    {
      "cell_type": "code",
      "source": [
        "km_cm=confusion_matrix(y_test, km_y_pred)"
      ],
      "metadata": {
        "id": "J52WN1HLPVWJ"
      },
      "execution_count": null,
      "outputs": []
    },
    {
      "cell_type": "code",
      "source": [
        "df_cm = pd.DataFrame(km_cm,\n",
        "                  ['True Normal','True Fraud'],['Pred Normal','Pred Fraud'])\n",
        "pyplot.figure(figsize = (8,4))\n",
        "sn.set(font_scale=1.4)#for label size\n",
        "sn.heatmap(df_cm, annot=True,annot_kws={\"size\": 16},fmt='g')"
      ],
      "metadata": {
        "id": "btIws7UOPXXS"
      },
      "execution_count": null,
      "outputs": []
    }
  ]
}